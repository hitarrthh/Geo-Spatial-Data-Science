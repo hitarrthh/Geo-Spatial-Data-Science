{
  "nbformat": 4,
  "nbformat_minor": 0,
  "metadata": {
    "colab": {
      "provenance": []
    },
    "kernelspec": {
      "name": "python3",
      "display_name": "Python 3"
    },
    "language_info": {
      "name": "python"
    }
  },
  "cells": [
    {
      "cell_type": "code",
      "execution_count": 1,
      "metadata": {
        "colab": {
          "base_uri": "https://localhost:8080/"
        },
        "id": "LsV5hOmKRfmX",
        "outputId": "845d356b-5d35-43e9-83fd-d4a1a0e1d0b2"
      },
      "outputs": [
        {
          "output_type": "stream",
          "name": "stdout",
          "text": [
            "Collecting rdflib\n",
            "  Downloading rdflib-7.2.1-py3-none-any.whl.metadata (11 kB)\n",
            "Requirement already satisfied: pandas in /usr/local/lib/python3.12/dist-packages (2.2.2)\n",
            "Requirement already satisfied: pyparsing<4,>=2.1.0 in /usr/local/lib/python3.12/dist-packages (from rdflib) (3.2.5)\n",
            "Requirement already satisfied: numpy>=1.26.0 in /usr/local/lib/python3.12/dist-packages (from pandas) (2.0.2)\n",
            "Requirement already satisfied: python-dateutil>=2.8.2 in /usr/local/lib/python3.12/dist-packages (from pandas) (2.9.0.post0)\n",
            "Requirement already satisfied: pytz>=2020.1 in /usr/local/lib/python3.12/dist-packages (from pandas) (2025.2)\n",
            "Requirement already satisfied: tzdata>=2022.7 in /usr/local/lib/python3.12/dist-packages (from pandas) (2025.2)\n",
            "Requirement already satisfied: six>=1.5 in /usr/local/lib/python3.12/dist-packages (from python-dateutil>=2.8.2->pandas) (1.17.0)\n",
            "Downloading rdflib-7.2.1-py3-none-any.whl (565 kB)\n",
            "\u001b[?25l   \u001b[90m━━━━━━━━━━━━━━━━━━━━━━━━━━━━━━━━━━━━━━━━\u001b[0m \u001b[32m0.0/565.4 kB\u001b[0m \u001b[31m?\u001b[0m eta \u001b[36m-:--:--\u001b[0m\r\u001b[2K   \u001b[91m━━━━━━━━━━━━━━━━━━━━━━━━━━━━━━━━━━━━━━━\u001b[0m\u001b[91m╸\u001b[0m \u001b[32m563.2/565.4 kB\u001b[0m \u001b[31m22.4 MB/s\u001b[0m eta \u001b[36m0:00:01\u001b[0m\r\u001b[2K   \u001b[90m━━━━━━━━━━━━━━━━━━━━━━━━━━━━━━━━━━━━━━━━\u001b[0m \u001b[32m565.4/565.4 kB\u001b[0m \u001b[31m15.0 MB/s\u001b[0m eta \u001b[36m0:00:00\u001b[0m\n",
            "\u001b[?25hInstalling collected packages: rdflib\n",
            "Successfully installed rdflib-7.2.1\n"
          ]
        }
      ],
      "source": [
        "pip install rdflib pandas"
      ]
    },
    {
      "cell_type": "code",
      "source": [
        "import pandas as pd\n",
        "from rdflib import Graph, Literal, Namespace, RDF, XSD"
      ],
      "metadata": {
        "id": "aM8LIHtLSN9d"
      },
      "execution_count": 2,
      "outputs": []
    },
    {
      "cell_type": "code",
      "source": [
        "data = \"\"\"Name;Address;Place;Country;Age;Hobby;Favourite Colour\n",
        "John;Dam 52;Amsterdam;The Netherlands;32;Fishing;Blue\n",
        "Jenny;Leidseplein 2;Amsterdam;The Netherlands;12;Dancing;Mauve\n",
        "Jill;52W Street 5;Amsterdam;United States of America;28;Carpentry;Cyan\n",
        "Jake;12E Street 98;Amsterdam;United States of America;42;Ballet;Purple\n",
        "\"\"\"\n",
        "with open(\"people.csv\", \"w\") as f:\n",
        "    f.write(data)"
      ],
      "metadata": {
        "id": "g8SpH4UFSSbE"
      },
      "execution_count": 3,
      "outputs": []
    },
    {
      "cell_type": "code",
      "source": [
        "df = pd.read_csv(\"people.csv\", sep=';')\n",
        "print(\"--- CSV Data Loaded ---\")\n",
        "print(df)\n",
        "print(\"\\n\" + \"=\"*25 + \"\\n\")"
      ],
      "metadata": {
        "colab": {
          "base_uri": "https://localhost:8080/"
        },
        "id": "yoOCau2cSV_p",
        "outputId": "938f74b2-be85-44ee-94d1-9f4c254709cf"
      },
      "execution_count": 4,
      "outputs": [
        {
          "output_type": "stream",
          "name": "stdout",
          "text": [
            "--- CSV Data Loaded ---\n",
            "    Name        Address      Place                   Country  Age      Hobby  \\\n",
            "0   John         Dam 52  Amsterdam           The Netherlands   32    Fishing   \n",
            "1  Jenny  Leidseplein 2  Amsterdam           The Netherlands   12    Dancing   \n",
            "2   Jill   52W Street 5  Amsterdam  United States of America   28  Carpentry   \n",
            "3   Jake  12E Street 98  Amsterdam  United States of America   42     Ballet   \n",
            "\n",
            "  Favourite Colour  \n",
            "0             Blue  \n",
            "1            Mauve  \n",
            "2             Cyan  \n",
            "3           Purple  \n",
            "\n",
            "=========================\n",
            "\n"
          ]
        }
      ]
    },
    {
      "cell_type": "code",
      "source": [
        "g = Graph()\n",
        "\n",
        "EX = Namespace(\"http://example.org/person/\")\n",
        "FOAF = Namespace(\"http://xmlns.com/foaf/0.1/\")\n",
        "SCHEMA = Namespace(\"http://schema.org/\")\n",
        "\n",
        "g.bind(\"ex\", EX)\n",
        "g.bind(\"foaf\", FOAF)\n",
        "g.bind(\"schema\", SCHEMA)"
      ],
      "metadata": {
        "id": "mUgqAJ0qSeXc"
      },
      "execution_count": 5,
      "outputs": []
    },
    {
      "cell_type": "code",
      "source": [
        "for _, row in df.iterrows():\n",
        "    person = EX[row[\"Name\"]]\n",
        "    g.add((person, RDF.type, FOAF.Person))\n",
        "    g.add((person, FOAF.name, Literal(row[\"Name\"])))\n",
        "    g.add((person, SCHEMA.address, Literal(row[\"Address\"])))\n",
        "    g.add((person, SCHEMA.city, Literal(row[\"Place\"])))\n",
        "    g.add((person, SCHEMA.country, Literal(row[\"Country\"])))\n",
        "    g.add((person, SCHEMA.age, Literal(int(row[\"Age\"]), datatype=XSD.integer)))\n",
        "    g.add((person, SCHEMA.hobby, Literal(row[\"Hobby\"])))\n",
        "    g.add((person, SCHEMA.favoriteColor, Literal(row[\"Favourite Colour\"])))"
      ],
      "metadata": {
        "id": "DqOrJn_iSicl"
      },
      "execution_count": 6,
      "outputs": []
    },
    {
      "cell_type": "code",
      "source": [
        "rdf_data = g.serialize(format=\"turtle\")\n",
        "\n",
        "print(\"--- Generated RDF (Turtle Format) ---\")\n",
        "print(rdf_data)"
      ],
      "metadata": {
        "colab": {
          "base_uri": "https://localhost:8080/"
        },
        "id": "qhcEqlpDSmpH",
        "outputId": "6434804b-8f31-4b60-9f34-dbfd9dead4cf"
      },
      "execution_count": 7,
      "outputs": [
        {
          "output_type": "stream",
          "name": "stdout",
          "text": [
            "--- Generated RDF (Turtle Format) ---\n",
            "@prefix ex: <http://example.org/person/> .\n",
            "@prefix foaf: <http://xmlns.com/foaf/0.1/> .\n",
            "@prefix schema1: <http://schema.org/> .\n",
            "@prefix xsd: <http://www.w3.org/2001/XMLSchema#> .\n",
            "\n",
            "ex:Jake a foaf:Person ;\n",
            "    schema1:address \"12E Street 98\" ;\n",
            "    schema1:age 42 ;\n",
            "    schema1:city \"Amsterdam\" ;\n",
            "    schema1:country \"United States of America\" ;\n",
            "    schema1:favoriteColor \"Purple\" ;\n",
            "    schema1:hobby \"Ballet\" ;\n",
            "    foaf:name \"Jake\" .\n",
            "\n",
            "ex:Jenny a foaf:Person ;\n",
            "    schema1:address \"Leidseplein 2\" ;\n",
            "    schema1:age 12 ;\n",
            "    schema1:city \"Amsterdam\" ;\n",
            "    schema1:country \"The Netherlands\" ;\n",
            "    schema1:favoriteColor \"Mauve\" ;\n",
            "    schema1:hobby \"Dancing\" ;\n",
            "    foaf:name \"Jenny\" .\n",
            "\n",
            "ex:Jill a foaf:Person ;\n",
            "    schema1:address \"52W Street 5\" ;\n",
            "    schema1:age 28 ;\n",
            "    schema1:city \"Amsterdam\" ;\n",
            "    schema1:country \"United States of America\" ;\n",
            "    schema1:favoriteColor \"Cyan\" ;\n",
            "    schema1:hobby \"Carpentry\" ;\n",
            "    foaf:name \"Jill\" .\n",
            "\n",
            "ex:John a foaf:Person ;\n",
            "    schema1:address \"Dam 52\" ;\n",
            "    schema1:age 32 ;\n",
            "    schema1:city \"Amsterdam\" ;\n",
            "    schema1:country \"The Netherlands\" ;\n",
            "    schema1:favoriteColor \"Blue\" ;\n",
            "    schema1:hobby \"Fishing\" ;\n",
            "    foaf:name \"John\" .\n",
            "\n",
            "\n"
          ]
        }
      ]
    },
    {
      "cell_type": "code",
      "source": [
        "with open(\"people.ttl\", \"w\") as f:\n",
        "    f.write(rdf_data)\n",
        "print(\"\\n✅ RDF saved as 'people.ttl'\")"
      ],
      "metadata": {
        "colab": {
          "base_uri": "https://localhost:8080/"
        },
        "id": "IoiQN0loRjJZ",
        "outputId": "a860953a-2600-4219-e436-8272d23ffd63"
      },
      "execution_count": 8,
      "outputs": [
        {
          "output_type": "stream",
          "name": "stdout",
          "text": [
            "\n",
            "✅ RDF saved as 'people.ttl'\n"
          ]
        }
      ]
    },
    {
      "cell_type": "markdown",
      "source": [
        "#CONCLUSION\n",
        "\n",
        "This experiment details the process of converting structured data from a CSV file into Resource Description Framework (RDF) format using Python libraries pandas and rdflib. The initial data, containing information about individuals including their names, addresses, locations, ages, hobbies, and favorite colors, was successfully loaded into a pandas DataFrame. This DataFrame was then iterated through, and each row was transformed into RDF triples.\n",
        "\n",
        "The RDF data was structured using standard vocabularies such as FOAF (Friend of a Friend) for representing people and their names, and Schema.org for properties like address, city, country, age, hobby, and favorite color. Custom namespaces were defined to represent the individuals themselves. The generated RDF data, serialized in Turtle format, provides a machine-readable representation of the original data, enabling easier integration and querying within semantic web applications. The resulting RDF graph was saved to a .ttl file for future use. This process demonstrates the feasibility of converting tabular data into a linked data format, enhancing its interoperability and potential for richer data analysis and integration."
      ],
      "metadata": {
        "id": "k9wfTbmxdRWf"
      }
    }
  ]
}