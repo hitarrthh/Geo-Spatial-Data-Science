{
  "nbformat": 4,
  "nbformat_minor": 0,
  "metadata": {
    "colab": {
      "provenance": []
    },
    "kernelspec": {
      "name": "python3",
      "display_name": "Python 3"
    },
    "language_info": {
      "name": "python"
    },
    "widgets": {
      "application/vnd.jupyter.widget-state+json": {
        "d7fd26444ad446738c586c4db07112c2": {
          "model_module": "keplergl-jupyter",
          "model_name": "KeplerGlModal",
          "model_module_version": "0.3.7",
          "state": {
            "_dom_classes": [],
            "_model_module": "keplergl-jupyter",
            "_model_module_version": "0.3.7",
            "_model_name": "KeplerGlModal",
            "_view_count": null,
            "_view_module": "keplergl-jupyter",
            "_view_module_version": "0.3.7",
            "_view_name": "KeplerGlView",
            "config": {},
            "data": {
              "Air Pollution Mumbai": {
                "index": [
                  0,
                  1,
                  2,
                  3,
                  4,
                  5,
                  6,
                  7,
                  8,
                  9,
                  10,
                  11,
                  12,
                  13,
                  14,
                  15,
                  16,
                  17,
                  18,
                  19,
                  20,
                  21,
                  22,
                  23,
                  24,
                  25,
                  26,
                  27,
                  28,
                  29,
                  30,
                  31,
                  32,
                  33,
                  34,
                  35,
                  36,
                  37,
                  38,
                  39,
                  40,
                  41,
                  42,
                  43,
                  44,
                  45,
                  46,
                  47,
                  48,
                  49,
                  50,
                  51,
                  52,
                  53,
                  54,
                  55,
                  56,
                  57,
                  58,
                  59
                ],
                "columns": [
                  "Station",
                  "Latitude",
                  "Longitude",
                  "Month",
                  "PM25"
                ],
                "data": [
                  [
                    "Colaba",
                    18.9067,
                    72.8147,
                    "Jan",
                    "142"
                  ],
                  [
                    "Colaba",
                    18.9067,
                    72.8147,
                    "Feb",
                    "91"
                  ],
                  [
                    "Colaba",
                    18.9067,
                    72.8147,
                    "Mar",
                    "132"
                  ],
                  [
                    "Colaba",
                    18.9067,
                    72.8147,
                    "Apr",
                    "54"
                  ],
                  [
                    "Colaba",
                    18.9067,
                    72.8147,
                    "May",
                    "146"
                  ],
                  [
                    "Colaba",
                    18.9067,
                    72.8147,
                    "Jun",
                    "111"
                  ],
                  [
                    "Colaba",
                    18.9067,
                    72.8147,
                    "Jul",
                    "100"
                  ],
                  [
                    "Colaba",
                    18.9067,
                    72.8147,
                    "Aug",
                    "60"
                  ],
                  [
                    "Colaba",
                    18.9067,
                    72.8147,
                    "Sep",
                    "142"
                  ],
                  [
                    "Colaba",
                    18.9067,
                    72.8147,
                    "Oct",
                    "122"
                  ],
                  [
                    "Colaba",
                    18.9067,
                    72.8147,
                    "Nov",
                    "126"
                  ],
                  [
                    "Colaba",
                    18.9067,
                    72.8147,
                    "Dec",
                    "114"
                  ],
                  [
                    "Bandra",
                    19.0596,
                    72.8295,
                    "Jan",
                    "114"
                  ],
                  [
                    "Bandra",
                    19.0596,
                    72.8295,
                    "Feb",
                    "127"
                  ],
                  [
                    "Bandra",
                    19.0596,
                    72.8295,
                    "Mar",
                    "139"
                  ],
                  [
                    "Bandra",
                    19.0596,
                    72.8295,
                    "Apr",
                    "143"
                  ],
                  [
                    "Bandra",
                    19.0596,
                    72.8295,
                    "May",
                    "63"
                  ],
                  [
                    "Bandra",
                    19.0596,
                    72.8295,
                    "Jun",
                    "42"
                  ],
                  [
                    "Bandra",
                    19.0596,
                    72.8295,
                    "Jul",
                    "61"
                  ],
                  [
                    "Bandra",
                    19.0596,
                    72.8295,
                    "Aug",
                    "92"
                  ],
                  [
                    "Bandra",
                    19.0596,
                    72.8295,
                    "Sep",
                    "41"
                  ],
                  [
                    "Bandra",
                    19.0596,
                    72.8295,
                    "Oct",
                    "127"
                  ],
                  [
                    "Bandra",
                    19.0596,
                    72.8295,
                    "Nov",
                    "147"
                  ],
                  [
                    "Bandra",
                    19.0596,
                    72.8295,
                    "Dec",
                    "69"
                  ],
                  [
                    "Andheri",
                    19.1197,
                    72.8468,
                    "Jan",
                    "77"
                  ],
                  [
                    "Andheri",
                    19.1197,
                    72.8468,
                    "Feb",
                    "41"
                  ],
                  [
                    "Andheri",
                    19.1197,
                    72.8468,
                    "Mar",
                    "103"
                  ],
                  [
                    "Andheri",
                    19.1197,
                    72.8468,
                    "Apr",
                    "99"
                  ],
                  [
                    "Andheri",
                    19.1197,
                    72.8468,
                    "May",
                    "60"
                  ],
                  [
                    "Andheri",
                    19.1197,
                    72.8468,
                    "Jun",
                    "72"
                  ],
                  [
                    "Andheri",
                    19.1197,
                    72.8468,
                    "Jul",
                    "115"
                  ],
                  [
                    "Andheri",
                    19.1197,
                    72.8468,
                    "Aug",
                    "97"
                  ],
                  [
                    "Andheri",
                    19.1197,
                    72.8468,
                    "Sep",
                    "61"
                  ],
                  [
                    "Andheri",
                    19.1197,
                    72.8468,
                    "Oct",
                    "147"
                  ],
                  [
                    "Andheri",
                    19.1197,
                    72.8468,
                    "Nov",
                    "128"
                  ],
                  [
                    "Andheri",
                    19.1197,
                    72.8468,
                    "Dec",
                    "88"
                  ],
                  [
                    "Chembur",
                    19.0622,
                    72.9006,
                    "Jan",
                    "130"
                  ],
                  [
                    "Chembur",
                    19.0622,
                    72.9006,
                    "Feb",
                    "98"
                  ],
                  [
                    "Chembur",
                    19.0622,
                    72.9006,
                    "Mar",
                    "81"
                  ],
                  [
                    "Chembur",
                    19.0622,
                    72.9006,
                    "Apr",
                    "131"
                  ],
                  [
                    "Chembur",
                    19.0622,
                    72.9006,
                    "May",
                    "99"
                  ],
                  [
                    "Chembur",
                    19.0622,
                    72.9006,
                    "Jun",
                    "119"
                  ],
                  [
                    "Chembur",
                    19.0622,
                    72.9006,
                    "Jul",
                    "54"
                  ],
                  [
                    "Chembur",
                    19.0622,
                    72.9006,
                    "Aug",
                    "101"
                  ],
                  [
                    "Chembur",
                    19.0622,
                    72.9006,
                    "Sep",
                    "101"
                  ],
                  [
                    "Chembur",
                    19.0622,
                    72.9006,
                    "Oct",
                    "86"
                  ],
                  [
                    "Chembur",
                    19.0622,
                    72.9006,
                    "Nov",
                    "101"
                  ],
                  [
                    "Chembur",
                    19.0622,
                    72.9006,
                    "Dec",
                    "90"
                  ],
                  [
                    "Borivali",
                    19.229,
                    72.8567,
                    "Jan",
                    "147"
                  ],
                  [
                    "Borivali",
                    19.229,
                    72.8567,
                    "Feb",
                    "94"
                  ],
                  [
                    "Borivali",
                    19.229,
                    72.8567,
                    "Mar",
                    "103"
                  ],
                  [
                    "Borivali",
                    19.229,
                    72.8567,
                    "Apr",
                    "42"
                  ],
                  [
                    "Borivali",
                    19.229,
                    72.8567,
                    "May",
                    "140"
                  ],
                  [
                    "Borivali",
                    19.229,
                    72.8567,
                    "Jun",
                    "90"
                  ],
                  [
                    "Borivali",
                    19.229,
                    72.8567,
                    "Jul",
                    "46"
                  ],
                  [
                    "Borivali",
                    19.229,
                    72.8567,
                    "Aug",
                    "60"
                  ],
                  [
                    "Borivali",
                    19.229,
                    72.8567,
                    "Sep",
                    "112"
                  ],
                  [
                    "Borivali",
                    19.229,
                    72.8567,
                    "Oct",
                    "78"
                  ],
                  [
                    "Borivali",
                    19.229,
                    72.8567,
                    "Nov",
                    "57"
                  ],
                  [
                    "Borivali",
                    19.229,
                    72.8567,
                    "Dec",
                    "43"
                  ]
                ]
              }
            },
            "height": 500,
            "layout": "IPY_MODEL_3888c9abb2f04f74ad1fcfd0ad5acce8",
            "tabbable": null,
            "tooltip": null,
            "value": "Hello World!"
          }
        }
      }
    }
  },
  "cells": [
    {
      "cell_type": "code",
      "source": [
        "!pip install -U plotly\n",
        "!pip install kaleido==0.2.1"
      ],
      "metadata": {
        "colab": {
          "base_uri": "https://localhost:8080/"
        },
        "id": "5nNJrUgvuQ6k",
        "outputId": "89130580-7c76-4d82-dd1e-08fc3ec674cf"
      },
      "execution_count": 1,
      "outputs": [
        {
          "output_type": "stream",
          "name": "stdout",
          "text": [
            "Requirement already satisfied: plotly in /usr/local/lib/python3.12/dist-packages (6.3.0)\n",
            "Requirement already satisfied: narwhals>=1.15.1 in /usr/local/lib/python3.12/dist-packages (from plotly) (2.2.0)\n",
            "Requirement already satisfied: packaging in /usr/local/lib/python3.12/dist-packages (from plotly) (25.0)\n",
            "Requirement already satisfied: kaleido==0.2.1 in /usr/local/lib/python3.12/dist-packages (0.2.1)\n"
          ]
        }
      ]
    },
    {
      "cell_type": "code",
      "source": [
        "import pandas as pd\n",
        "import numpy as np\n",
        "import warnings\n",
        "warnings.filterwarnings('ignore')"
      ],
      "metadata": {
        "id": "WRSHvxYOvDtI"
      },
      "execution_count": 2,
      "outputs": []
    },
    {
      "cell_type": "code",
      "source": [
        "stations = [\n",
        "    {\"Station\": \"Colaba\", \"Lat\": 18.9067, \"Lon\": 72.8147},\n",
        "    {\"Station\": \"Bandra\", \"Lat\": 19.0596, \"Lon\": 72.8295},\n",
        "    {\"Station\": \"Andheri\", \"Lat\": 19.1197, \"Lon\": 72.8468},\n",
        "    {\"Station\": \"Chembur\", \"Lat\": 19.0622, \"Lon\": 72.9006},\n",
        "    {\"Station\": \"Borivali\", \"Lat\": 19.2290, \"Lon\": 72.8567},\n",
        "]\n",
        "\n",
        "months = pd.date_range(\"2024-01-01\", \"2024-12-01\", freq=\"MS\").strftime(\"%b\").tolist()\n",
        "\n",
        "data = []\n",
        "np.random.seed(42)\n",
        "for s in stations:\n",
        "    for m in months:\n",
        "        pm25 = np.random.randint(40, 150)\n",
        "        data.append([s[\"Station\"], s[\"Lat\"], s[\"Lon\"], m, pm25])\n",
        "\n",
        "df = pd.DataFrame(data, columns=[\"Station\", \"Latitude\", \"Longitude\", \"Month\", \"PM25\"])\n",
        "df.to_csv(\"mumbai_air_pollution.csv\", index=False)"
      ],
      "metadata": {
        "id": "AWlk3SfDvEEQ"
      },
      "execution_count": 3,
      "outputs": []
    },
    {
      "cell_type": "code",
      "source": [
        "from keplergl import KeplerGl\n",
        "\n",
        "map_1 = KeplerGl(height=500)\n",
        "map_1.add_data(data=df, name=\"Air Pollution Mumbai\")\n",
        "display(map_1)\n",
        "map_1.save_to_html(file_name=\"mumbai_air_pollution.html\")"
      ],
      "metadata": {
        "colab": {
          "base_uri": "https://localhost:8080/",
          "height": 53,
          "referenced_widgets": [
            "d7fd26444ad446738c586c4db07112c2"
          ]
        },
        "id": "PuBvYcPSvIx7",
        "outputId": "72701ef9-492a-4356-9ea8-0aca387c3ed2"
      },
      "execution_count": 4,
      "outputs": [
        {
          "output_type": "stream",
          "name": "stdout",
          "text": [
            "User Guide: https://docs.kepler.gl/docs/keplergl-jupyter\n"
          ]
        },
        {
          "output_type": "display_data",
          "data": {
            "text/plain": [
              "KeplerGl(data={'Air Pollution Mumbai': {'index': [0, 1, 2, 3, 4, 5, 6, 7, 8, 9, 10, 11, 12, 13, 14, 15, 16, 17…"
            ],
            "application/vnd.jupyter.widget-view+json": {
              "version_major": 2,
              "version_minor": 0,
              "model_id": "d7fd26444ad446738c586c4db07112c2"
            }
          },
          "metadata": {}
        },
        {
          "output_type": "stream",
          "name": "stdout",
          "text": [
            "Map saved to mumbai_air_pollution.html!\n"
          ]
        }
      ]
    },
    {
      "cell_type": "code",
      "source": [
        "import plotly.express as px\n",
        "\n",
        "fig = px.scatter_mapbox(\n",
        "    df,\n",
        "    lat=\"Latitude\",\n",
        "    lon=\"Longitude\",\n",
        "    color=\"PM25\",\n",
        "    size=\"PM25\",\n",
        "    hover_name=\"Station\",\n",
        "    hover_data={\"Month\": True, \"PM25\": True, \"Latitude\": False, \"Longitude\": False},\n",
        "    animation_frame=\"Month\",\n",
        "    color_continuous_scale=\"RdYlGn_r\",\n",
        "    size_max=30,\n",
        "    zoom=10,\n",
        "    title=\"Mumbai Air Pollution (PM2.5) Over 2024\"\n",
        ")\n",
        "\n",
        "fig.update_layout(mapbox_style=\"carto-darkmatter\")\n",
        "fig.update_layout(margin={\"r\":0,\"t\":40,\"l\":0,\"b\":0})\n",
        "fig.show()\n",
        "fig.write_html(\"mumbai_air_pollution_plotly.html\")\n"
      ],
      "metadata": {
        "colab": {
          "base_uri": "https://localhost:8080/",
          "height": 542
        },
        "id": "xPKLRAFLvOy-",
        "outputId": "a6738fe0-c07b-400c-c4d0-02112042075f"
      },
      "execution_count": 5,
      "outputs": [
        {
          "output_type": "display_data",
          "data": {
            "text/html": [
              "<html>\n",
              "<head><meta charset=\"utf-8\" /></head>\n",
              "<body>\n",
              "    <div>            <script src=\"https://cdnjs.cloudflare.com/ajax/libs/mathjax/2.7.5/MathJax.js?config=TeX-AMS-MML_SVG\"></script><script type=\"text/javascript\">if (window.MathJax && window.MathJax.Hub && window.MathJax.Hub.Config) {window.MathJax.Hub.Config({SVG: {font: \"STIX-Web\"}});}</script>                <script type=\"text/javascript\">window.PlotlyConfig = {MathJaxConfig: 'local'};</script>\n",
              "        <script charset=\"utf-8\" src=\"https://cdn.plot.ly/plotly-3.1.0.min.js\" integrity=\"sha256-Ei4740bWZhaUTQuD6q9yQlgVCMPBz6CZWhevDYPv93A=\" crossorigin=\"anonymous\"></script>                <div id=\"6fe36211-5ffd-4cd9-aaf8-23fbcbd824bd\" class=\"plotly-graph-div\" style=\"height:525px; width:100%;\"></div>            <script type=\"text/javascript\">                window.PLOTLYENV=window.PLOTLYENV || {};                                if (document.getElementById(\"6fe36211-5ffd-4cd9-aaf8-23fbcbd824bd\")) {                    Plotly.newPlot(                        \"6fe36211-5ffd-4cd9-aaf8-23fbcbd824bd\",                        [{\"customdata\":[[\"Jan\",142,18.9067,72.8147],[\"Jan\",114,19.0596,72.8295],[\"Jan\",77,19.1197,72.8468],[\"Jan\",130,19.0622,72.9006],[\"Jan\",147,19.229,72.8567]],\"hovertemplate\":\"\\u003cb\\u003e%{hovertext}\\u003c\\u002fb\\u003e\\u003cbr\\u003e\\u003cbr\\u003eMonth=%{customdata[0]}\\u003cbr\\u003ePM25=%{marker.color}\\u003cextra\\u003e\\u003c\\u002fextra\\u003e\",\"hovertext\":[\"Colaba\",\"Bandra\",\"Andheri\",\"Chembur\",\"Borivali\"],\"lat\":{\"dtype\":\"f8\",\"bdata\":\"gEi\\u002ffR3oMkBz1xLyQQ8zQMpUwaikHjNAq8\\u002fVVuwPM0C0yHa+nzozQA==\"},\"legendgroup\":\"\",\"lon\":{\"dtype\":\"f8\",\"bdata\":\"RwN4CyQ0UkAMAiuHFjVSQC6QoPgxNlJAxLEubqM5UkDtnjws1DZSQA==\"},\"marker\":{\"color\":{\"dtype\":\"i2\",\"bdata\":\"jgByAE0AggCTAA==\"},\"coloraxis\":\"coloraxis\",\"size\":{\"dtype\":\"i2\",\"bdata\":\"jgByAE0AggCTAA==\"},\"sizemode\":\"area\",\"sizeref\":0.16333333333333333},\"mode\":\"markers\",\"name\":\"\",\"showlegend\":false,\"subplot\":\"mapbox\",\"type\":\"scattermapbox\"}],                        {\"template\":{\"data\":{\"histogram2dcontour\":[{\"type\":\"histogram2dcontour\",\"colorbar\":{\"outlinewidth\":0,\"ticks\":\"\"},\"colorscale\":[[0.0,\"#0d0887\"],[0.1111111111111111,\"#46039f\"],[0.2222222222222222,\"#7201a8\"],[0.3333333333333333,\"#9c179e\"],[0.4444444444444444,\"#bd3786\"],[0.5555555555555556,\"#d8576b\"],[0.6666666666666666,\"#ed7953\"],[0.7777777777777778,\"#fb9f3a\"],[0.8888888888888888,\"#fdca26\"],[1.0,\"#f0f921\"]]}],\"choropleth\":[{\"type\":\"choropleth\",\"colorbar\":{\"outlinewidth\":0,\"ticks\":\"\"}}],\"histogram2d\":[{\"type\":\"histogram2d\",\"colorbar\":{\"outlinewidth\":0,\"ticks\":\"\"},\"colorscale\":[[0.0,\"#0d0887\"],[0.1111111111111111,\"#46039f\"],[0.2222222222222222,\"#7201a8\"],[0.3333333333333333,\"#9c179e\"],[0.4444444444444444,\"#bd3786\"],[0.5555555555555556,\"#d8576b\"],[0.6666666666666666,\"#ed7953\"],[0.7777777777777778,\"#fb9f3a\"],[0.8888888888888888,\"#fdca26\"],[1.0,\"#f0f921\"]]}],\"heatmap\":[{\"type\":\"heatmap\",\"colorbar\":{\"outlinewidth\":0,\"ticks\":\"\"},\"colorscale\":[[0.0,\"#0d0887\"],[0.1111111111111111,\"#46039f\"],[0.2222222222222222,\"#7201a8\"],[0.3333333333333333,\"#9c179e\"],[0.4444444444444444,\"#bd3786\"],[0.5555555555555556,\"#d8576b\"],[0.6666666666666666,\"#ed7953\"],[0.7777777777777778,\"#fb9f3a\"],[0.8888888888888888,\"#fdca26\"],[1.0,\"#f0f921\"]]}],\"contourcarpet\":[{\"type\":\"contourcarpet\",\"colorbar\":{\"outlinewidth\":0,\"ticks\":\"\"}}],\"contour\":[{\"type\":\"contour\",\"colorbar\":{\"outlinewidth\":0,\"ticks\":\"\"},\"colorscale\":[[0.0,\"#0d0887\"],[0.1111111111111111,\"#46039f\"],[0.2222222222222222,\"#7201a8\"],[0.3333333333333333,\"#9c179e\"],[0.4444444444444444,\"#bd3786\"],[0.5555555555555556,\"#d8576b\"],[0.6666666666666666,\"#ed7953\"],[0.7777777777777778,\"#fb9f3a\"],[0.8888888888888888,\"#fdca26\"],[1.0,\"#f0f921\"]]}],\"surface\":[{\"type\":\"surface\",\"colorbar\":{\"outlinewidth\":0,\"ticks\":\"\"},\"colorscale\":[[0.0,\"#0d0887\"],[0.1111111111111111,\"#46039f\"],[0.2222222222222222,\"#7201a8\"],[0.3333333333333333,\"#9c179e\"],[0.4444444444444444,\"#bd3786\"],[0.5555555555555556,\"#d8576b\"],[0.6666666666666666,\"#ed7953\"],[0.7777777777777778,\"#fb9f3a\"],[0.8888888888888888,\"#fdca26\"],[1.0,\"#f0f921\"]]}],\"mesh3d\":[{\"type\":\"mesh3d\",\"colorbar\":{\"outlinewidth\":0,\"ticks\":\"\"}}],\"scatter\":[{\"fillpattern\":{\"fillmode\":\"overlay\",\"size\":10,\"solidity\":0.2},\"type\":\"scatter\"}],\"parcoords\":[{\"type\":\"parcoords\",\"line\":{\"colorbar\":{\"outlinewidth\":0,\"ticks\":\"\"}}}],\"scatterpolargl\":[{\"type\":\"scatterpolargl\",\"marker\":{\"colorbar\":{\"outlinewidth\":0,\"ticks\":\"\"}}}],\"bar\":[{\"error_x\":{\"color\":\"#2a3f5f\"},\"error_y\":{\"color\":\"#2a3f5f\"},\"marker\":{\"line\":{\"color\":\"#E5ECF6\",\"width\":0.5},\"pattern\":{\"fillmode\":\"overlay\",\"size\":10,\"solidity\":0.2}},\"type\":\"bar\"}],\"scattergeo\":[{\"type\":\"scattergeo\",\"marker\":{\"colorbar\":{\"outlinewidth\":0,\"ticks\":\"\"}}}],\"scatterpolar\":[{\"type\":\"scatterpolar\",\"marker\":{\"colorbar\":{\"outlinewidth\":0,\"ticks\":\"\"}}}],\"histogram\":[{\"marker\":{\"pattern\":{\"fillmode\":\"overlay\",\"size\":10,\"solidity\":0.2}},\"type\":\"histogram\"}],\"scattergl\":[{\"type\":\"scattergl\",\"marker\":{\"colorbar\":{\"outlinewidth\":0,\"ticks\":\"\"}}}],\"scatter3d\":[{\"type\":\"scatter3d\",\"line\":{\"colorbar\":{\"outlinewidth\":0,\"ticks\":\"\"}},\"marker\":{\"colorbar\":{\"outlinewidth\":0,\"ticks\":\"\"}}}],\"scattermap\":[{\"type\":\"scattermap\",\"marker\":{\"colorbar\":{\"outlinewidth\":0,\"ticks\":\"\"}}}],\"scattermapbox\":[{\"type\":\"scattermapbox\",\"marker\":{\"colorbar\":{\"outlinewidth\":0,\"ticks\":\"\"}}}],\"scatterternary\":[{\"type\":\"scatterternary\",\"marker\":{\"colorbar\":{\"outlinewidth\":0,\"ticks\":\"\"}}}],\"scattercarpet\":[{\"type\":\"scattercarpet\",\"marker\":{\"colorbar\":{\"outlinewidth\":0,\"ticks\":\"\"}}}],\"carpet\":[{\"aaxis\":{\"endlinecolor\":\"#2a3f5f\",\"gridcolor\":\"white\",\"linecolor\":\"white\",\"minorgridcolor\":\"white\",\"startlinecolor\":\"#2a3f5f\"},\"baxis\":{\"endlinecolor\":\"#2a3f5f\",\"gridcolor\":\"white\",\"linecolor\":\"white\",\"minorgridcolor\":\"white\",\"startlinecolor\":\"#2a3f5f\"},\"type\":\"carpet\"}],\"table\":[{\"cells\":{\"fill\":{\"color\":\"#EBF0F8\"},\"line\":{\"color\":\"white\"}},\"header\":{\"fill\":{\"color\":\"#C8D4E3\"},\"line\":{\"color\":\"white\"}},\"type\":\"table\"}],\"barpolar\":[{\"marker\":{\"line\":{\"color\":\"#E5ECF6\",\"width\":0.5},\"pattern\":{\"fillmode\":\"overlay\",\"size\":10,\"solidity\":0.2}},\"type\":\"barpolar\"}],\"pie\":[{\"automargin\":true,\"type\":\"pie\"}]},\"layout\":{\"autotypenumbers\":\"strict\",\"colorway\":[\"#636efa\",\"#EF553B\",\"#00cc96\",\"#ab63fa\",\"#FFA15A\",\"#19d3f3\",\"#FF6692\",\"#B6E880\",\"#FF97FF\",\"#FECB52\"],\"font\":{\"color\":\"#2a3f5f\"},\"hovermode\":\"closest\",\"hoverlabel\":{\"align\":\"left\"},\"paper_bgcolor\":\"white\",\"plot_bgcolor\":\"#E5ECF6\",\"polar\":{\"bgcolor\":\"#E5ECF6\",\"angularaxis\":{\"gridcolor\":\"white\",\"linecolor\":\"white\",\"ticks\":\"\"},\"radialaxis\":{\"gridcolor\":\"white\",\"linecolor\":\"white\",\"ticks\":\"\"}},\"ternary\":{\"bgcolor\":\"#E5ECF6\",\"aaxis\":{\"gridcolor\":\"white\",\"linecolor\":\"white\",\"ticks\":\"\"},\"baxis\":{\"gridcolor\":\"white\",\"linecolor\":\"white\",\"ticks\":\"\"},\"caxis\":{\"gridcolor\":\"white\",\"linecolor\":\"white\",\"ticks\":\"\"}},\"coloraxis\":{\"colorbar\":{\"outlinewidth\":0,\"ticks\":\"\"}},\"colorscale\":{\"sequential\":[[0.0,\"#0d0887\"],[0.1111111111111111,\"#46039f\"],[0.2222222222222222,\"#7201a8\"],[0.3333333333333333,\"#9c179e\"],[0.4444444444444444,\"#bd3786\"],[0.5555555555555556,\"#d8576b\"],[0.6666666666666666,\"#ed7953\"],[0.7777777777777778,\"#fb9f3a\"],[0.8888888888888888,\"#fdca26\"],[1.0,\"#f0f921\"]],\"sequentialminus\":[[0.0,\"#0d0887\"],[0.1111111111111111,\"#46039f\"],[0.2222222222222222,\"#7201a8\"],[0.3333333333333333,\"#9c179e\"],[0.4444444444444444,\"#bd3786\"],[0.5555555555555556,\"#d8576b\"],[0.6666666666666666,\"#ed7953\"],[0.7777777777777778,\"#fb9f3a\"],[0.8888888888888888,\"#fdca26\"],[1.0,\"#f0f921\"]],\"diverging\":[[0,\"#8e0152\"],[0.1,\"#c51b7d\"],[0.2,\"#de77ae\"],[0.3,\"#f1b6da\"],[0.4,\"#fde0ef\"],[0.5,\"#f7f7f7\"],[0.6,\"#e6f5d0\"],[0.7,\"#b8e186\"],[0.8,\"#7fbc41\"],[0.9,\"#4d9221\"],[1,\"#276419\"]]},\"xaxis\":{\"gridcolor\":\"white\",\"linecolor\":\"white\",\"ticks\":\"\",\"title\":{\"standoff\":15},\"zerolinecolor\":\"white\",\"automargin\":true,\"zerolinewidth\":2},\"yaxis\":{\"gridcolor\":\"white\",\"linecolor\":\"white\",\"ticks\":\"\",\"title\":{\"standoff\":15},\"zerolinecolor\":\"white\",\"automargin\":true,\"zerolinewidth\":2},\"scene\":{\"xaxis\":{\"backgroundcolor\":\"#E5ECF6\",\"gridcolor\":\"white\",\"linecolor\":\"white\",\"showbackground\":true,\"ticks\":\"\",\"zerolinecolor\":\"white\",\"gridwidth\":2},\"yaxis\":{\"backgroundcolor\":\"#E5ECF6\",\"gridcolor\":\"white\",\"linecolor\":\"white\",\"showbackground\":true,\"ticks\":\"\",\"zerolinecolor\":\"white\",\"gridwidth\":2},\"zaxis\":{\"backgroundcolor\":\"#E5ECF6\",\"gridcolor\":\"white\",\"linecolor\":\"white\",\"showbackground\":true,\"ticks\":\"\",\"zerolinecolor\":\"white\",\"gridwidth\":2}},\"shapedefaults\":{\"line\":{\"color\":\"#2a3f5f\"}},\"annotationdefaults\":{\"arrowcolor\":\"#2a3f5f\",\"arrowhead\":0,\"arrowwidth\":1},\"geo\":{\"bgcolor\":\"white\",\"landcolor\":\"#E5ECF6\",\"subunitcolor\":\"white\",\"showland\":true,\"showlakes\":true,\"lakecolor\":\"white\"},\"title\":{\"x\":0.05},\"mapbox\":{\"style\":\"light\"}}},\"mapbox\":{\"domain\":{\"x\":[0.0,1.0],\"y\":[0.0,1.0]},\"center\":{\"lat\":19.075440000000004,\"lon\":72.84966000000003},\"zoom\":10,\"style\":\"carto-darkmatter\"},\"coloraxis\":{\"colorbar\":{\"title\":{\"text\":\"PM25\"}},\"colorscale\":[[0.0,\"rgb(0,104,55)\"],[0.1,\"rgb(26,152,80)\"],[0.2,\"rgb(102,189,99)\"],[0.3,\"rgb(166,217,106)\"],[0.4,\"rgb(217,239,139)\"],[0.5,\"rgb(255,255,191)\"],[0.6,\"rgb(254,224,139)\"],[0.7,\"rgb(253,174,97)\"],[0.8,\"rgb(244,109,67)\"],[0.9,\"rgb(215,48,39)\"],[1.0,\"rgb(165,0,38)\"]]},\"legend\":{\"tracegroupgap\":0,\"itemsizing\":\"constant\"},\"title\":{\"text\":\"Mumbai Air Pollution (PM2.5) Over 2024\"},\"updatemenus\":[{\"buttons\":[{\"args\":[null,{\"frame\":{\"duration\":500,\"redraw\":true},\"mode\":\"immediate\",\"fromcurrent\":true,\"transition\":{\"duration\":500,\"easing\":\"linear\"}}],\"label\":\"&#9654;\",\"method\":\"animate\"},{\"args\":[[null],{\"frame\":{\"duration\":0,\"redraw\":true},\"mode\":\"immediate\",\"fromcurrent\":true,\"transition\":{\"duration\":0,\"easing\":\"linear\"}}],\"label\":\"&#9724;\",\"method\":\"animate\"}],\"direction\":\"left\",\"pad\":{\"r\":10,\"t\":70},\"showactive\":false,\"type\":\"buttons\",\"x\":0.1,\"xanchor\":\"right\",\"y\":0,\"yanchor\":\"top\"}],\"sliders\":[{\"active\":0,\"currentvalue\":{\"prefix\":\"Month=\"},\"len\":0.9,\"pad\":{\"b\":10,\"t\":60},\"steps\":[{\"args\":[[\"Jan\"],{\"frame\":{\"duration\":0,\"redraw\":true},\"mode\":\"immediate\",\"fromcurrent\":true,\"transition\":{\"duration\":0,\"easing\":\"linear\"}}],\"label\":\"Jan\",\"method\":\"animate\"},{\"args\":[[\"Feb\"],{\"frame\":{\"duration\":0,\"redraw\":true},\"mode\":\"immediate\",\"fromcurrent\":true,\"transition\":{\"duration\":0,\"easing\":\"linear\"}}],\"label\":\"Feb\",\"method\":\"animate\"},{\"args\":[[\"Mar\"],{\"frame\":{\"duration\":0,\"redraw\":true},\"mode\":\"immediate\",\"fromcurrent\":true,\"transition\":{\"duration\":0,\"easing\":\"linear\"}}],\"label\":\"Mar\",\"method\":\"animate\"},{\"args\":[[\"Apr\"],{\"frame\":{\"duration\":0,\"redraw\":true},\"mode\":\"immediate\",\"fromcurrent\":true,\"transition\":{\"duration\":0,\"easing\":\"linear\"}}],\"label\":\"Apr\",\"method\":\"animate\"},{\"args\":[[\"May\"],{\"frame\":{\"duration\":0,\"redraw\":true},\"mode\":\"immediate\",\"fromcurrent\":true,\"transition\":{\"duration\":0,\"easing\":\"linear\"}}],\"label\":\"May\",\"method\":\"animate\"},{\"args\":[[\"Jun\"],{\"frame\":{\"duration\":0,\"redraw\":true},\"mode\":\"immediate\",\"fromcurrent\":true,\"transition\":{\"duration\":0,\"easing\":\"linear\"}}],\"label\":\"Jun\",\"method\":\"animate\"},{\"args\":[[\"Jul\"],{\"frame\":{\"duration\":0,\"redraw\":true},\"mode\":\"immediate\",\"fromcurrent\":true,\"transition\":{\"duration\":0,\"easing\":\"linear\"}}],\"label\":\"Jul\",\"method\":\"animate\"},{\"args\":[[\"Aug\"],{\"frame\":{\"duration\":0,\"redraw\":true},\"mode\":\"immediate\",\"fromcurrent\":true,\"transition\":{\"duration\":0,\"easing\":\"linear\"}}],\"label\":\"Aug\",\"method\":\"animate\"},{\"args\":[[\"Sep\"],{\"frame\":{\"duration\":0,\"redraw\":true},\"mode\":\"immediate\",\"fromcurrent\":true,\"transition\":{\"duration\":0,\"easing\":\"linear\"}}],\"label\":\"Sep\",\"method\":\"animate\"},{\"args\":[[\"Oct\"],{\"frame\":{\"duration\":0,\"redraw\":true},\"mode\":\"immediate\",\"fromcurrent\":true,\"transition\":{\"duration\":0,\"easing\":\"linear\"}}],\"label\":\"Oct\",\"method\":\"animate\"},{\"args\":[[\"Nov\"],{\"frame\":{\"duration\":0,\"redraw\":true},\"mode\":\"immediate\",\"fromcurrent\":true,\"transition\":{\"duration\":0,\"easing\":\"linear\"}}],\"label\":\"Nov\",\"method\":\"animate\"},{\"args\":[[\"Dec\"],{\"frame\":{\"duration\":0,\"redraw\":true},\"mode\":\"immediate\",\"fromcurrent\":true,\"transition\":{\"duration\":0,\"easing\":\"linear\"}}],\"label\":\"Dec\",\"method\":\"animate\"}],\"x\":0.1,\"xanchor\":\"left\",\"y\":0,\"yanchor\":\"top\"}],\"margin\":{\"r\":0,\"t\":40,\"l\":0,\"b\":0}},                        {\"responsive\": true}                    ).then(function(){\n",
              "                            Plotly.addFrames('6fe36211-5ffd-4cd9-aaf8-23fbcbd824bd', [{\"data\":[{\"customdata\":[[\"Jan\",142,18.9067,72.8147],[\"Jan\",114,19.0596,72.8295],[\"Jan\",77,19.1197,72.8468],[\"Jan\",130,19.0622,72.9006],[\"Jan\",147,19.229,72.8567]],\"hovertemplate\":\"\\u003cb\\u003e%{hovertext}\\u003c\\u002fb\\u003e\\u003cbr\\u003e\\u003cbr\\u003eMonth=%{customdata[0]}\\u003cbr\\u003ePM25=%{marker.color}\\u003cextra\\u003e\\u003c\\u002fextra\\u003e\",\"hovertext\":[\"Colaba\",\"Bandra\",\"Andheri\",\"Chembur\",\"Borivali\"],\"lat\":{\"dtype\":\"f8\",\"bdata\":\"gEi\\u002ffR3oMkBz1xLyQQ8zQMpUwaikHjNAq8\\u002fVVuwPM0C0yHa+nzozQA==\"},\"legendgroup\":\"\",\"lon\":{\"dtype\":\"f8\",\"bdata\":\"RwN4CyQ0UkAMAiuHFjVSQC6QoPgxNlJAxLEubqM5UkDtnjws1DZSQA==\"},\"marker\":{\"color\":{\"dtype\":\"i2\",\"bdata\":\"jgByAE0AggCTAA==\"},\"coloraxis\":\"coloraxis\",\"size\":{\"dtype\":\"i2\",\"bdata\":\"jgByAE0AggCTAA==\"},\"sizemode\":\"area\",\"sizeref\":0.16333333333333333},\"mode\":\"markers\",\"name\":\"\",\"showlegend\":false,\"subplot\":\"mapbox\",\"type\":\"scattermapbox\"}],\"name\":\"Jan\"},{\"data\":[{\"customdata\":[[\"Feb\",91,18.9067,72.8147],[\"Feb\",127,19.0596,72.8295],[\"Feb\",41,19.1197,72.8468],[\"Feb\",98,19.0622,72.9006],[\"Feb\",94,19.229,72.8567]],\"hovertemplate\":\"\\u003cb\\u003e%{hovertext}\\u003c\\u002fb\\u003e\\u003cbr\\u003e\\u003cbr\\u003eMonth=%{customdata[0]}\\u003cbr\\u003ePM25=%{marker.color}\\u003cextra\\u003e\\u003c\\u002fextra\\u003e\",\"hovertext\":[\"Colaba\",\"Bandra\",\"Andheri\",\"Chembur\",\"Borivali\"],\"lat\":{\"dtype\":\"f8\",\"bdata\":\"gEi\\u002ffR3oMkBz1xLyQQ8zQMpUwaikHjNAq8\\u002fVVuwPM0C0yHa+nzozQA==\"},\"legendgroup\":\"\",\"lon\":{\"dtype\":\"f8\",\"bdata\":\"RwN4CyQ0UkAMAiuHFjVSQC6QoPgxNlJAxLEubqM5UkDtnjws1DZSQA==\"},\"marker\":{\"color\":{\"dtype\":\"i1\",\"bdata\":\"W38pYl4=\"},\"coloraxis\":\"coloraxis\",\"size\":{\"dtype\":\"i1\",\"bdata\":\"W38pYl4=\"},\"sizemode\":\"area\",\"sizeref\":0.16333333333333333},\"mode\":\"markers\",\"name\":\"\",\"showlegend\":false,\"subplot\":\"mapbox\",\"type\":\"scattermapbox\"}],\"name\":\"Feb\"},{\"data\":[{\"customdata\":[[\"Mar\",132,18.9067,72.8147],[\"Mar\",139,19.0596,72.8295],[\"Mar\",103,19.1197,72.8468],[\"Mar\",81,19.0622,72.9006],[\"Mar\",103,19.229,72.8567]],\"hovertemplate\":\"\\u003cb\\u003e%{hovertext}\\u003c\\u002fb\\u003e\\u003cbr\\u003e\\u003cbr\\u003eMonth=%{customdata[0]}\\u003cbr\\u003ePM25=%{marker.color}\\u003cextra\\u003e\\u003c\\u002fextra\\u003e\",\"hovertext\":[\"Colaba\",\"Bandra\",\"Andheri\",\"Chembur\",\"Borivali\"],\"lat\":{\"dtype\":\"f8\",\"bdata\":\"gEi\\u002ffR3oMkBz1xLyQQ8zQMpUwaikHjNAq8\\u002fVVuwPM0C0yHa+nzozQA==\"},\"legendgroup\":\"\",\"lon\":{\"dtype\":\"f8\",\"bdata\":\"RwN4CyQ0UkAMAiuHFjVSQC6QoPgxNlJAxLEubqM5UkDtnjws1DZSQA==\"},\"marker\":{\"color\":{\"dtype\":\"i2\",\"bdata\":\"hACLAGcAUQBnAA==\"},\"coloraxis\":\"coloraxis\",\"size\":{\"dtype\":\"i2\",\"bdata\":\"hACLAGcAUQBnAA==\"},\"sizemode\":\"area\",\"sizeref\":0.16333333333333333},\"mode\":\"markers\",\"name\":\"\",\"showlegend\":false,\"subplot\":\"mapbox\",\"type\":\"scattermapbox\"}],\"name\":\"Mar\"},{\"data\":[{\"customdata\":[[\"Apr\",54,18.9067,72.8147],[\"Apr\",143,19.0596,72.8295],[\"Apr\",99,19.1197,72.8468],[\"Apr\",131,19.0622,72.9006],[\"Apr\",42,19.229,72.8567]],\"hovertemplate\":\"\\u003cb\\u003e%{hovertext}\\u003c\\u002fb\\u003e\\u003cbr\\u003e\\u003cbr\\u003eMonth=%{customdata[0]}\\u003cbr\\u003ePM25=%{marker.color}\\u003cextra\\u003e\\u003c\\u002fextra\\u003e\",\"hovertext\":[\"Colaba\",\"Bandra\",\"Andheri\",\"Chembur\",\"Borivali\"],\"lat\":{\"dtype\":\"f8\",\"bdata\":\"gEi\\u002ffR3oMkBz1xLyQQ8zQMpUwaikHjNAq8\\u002fVVuwPM0C0yHa+nzozQA==\"},\"legendgroup\":\"\",\"lon\":{\"dtype\":\"f8\",\"bdata\":\"RwN4CyQ0UkAMAiuHFjVSQC6QoPgxNlJAxLEubqM5UkDtnjws1DZSQA==\"},\"marker\":{\"color\":{\"dtype\":\"i2\",\"bdata\":\"NgCPAGMAgwAqAA==\"},\"coloraxis\":\"coloraxis\",\"size\":{\"dtype\":\"i2\",\"bdata\":\"NgCPAGMAgwAqAA==\"},\"sizemode\":\"area\",\"sizeref\":0.16333333333333333},\"mode\":\"markers\",\"name\":\"\",\"showlegend\":false,\"subplot\":\"mapbox\",\"type\":\"scattermapbox\"}],\"name\":\"Apr\"},{\"data\":[{\"customdata\":[[\"May\",146,18.9067,72.8147],[\"May\",63,19.0596,72.8295],[\"May\",60,19.1197,72.8468],[\"May\",99,19.0622,72.9006],[\"May\",140,19.229,72.8567]],\"hovertemplate\":\"\\u003cb\\u003e%{hovertext}\\u003c\\u002fb\\u003e\\u003cbr\\u003e\\u003cbr\\u003eMonth=%{customdata[0]}\\u003cbr\\u003ePM25=%{marker.color}\\u003cextra\\u003e\\u003c\\u002fextra\\u003e\",\"hovertext\":[\"Colaba\",\"Bandra\",\"Andheri\",\"Chembur\",\"Borivali\"],\"lat\":{\"dtype\":\"f8\",\"bdata\":\"gEi\\u002ffR3oMkBz1xLyQQ8zQMpUwaikHjNAq8\\u002fVVuwPM0C0yHa+nzozQA==\"},\"legendgroup\":\"\",\"lon\":{\"dtype\":\"f8\",\"bdata\":\"RwN4CyQ0UkAMAiuHFjVSQC6QoPgxNlJAxLEubqM5UkDtnjws1DZSQA==\"},\"marker\":{\"color\":{\"dtype\":\"i2\",\"bdata\":\"kgA\\u002fADwAYwCMAA==\"},\"coloraxis\":\"coloraxis\",\"size\":{\"dtype\":\"i2\",\"bdata\":\"kgA\\u002fADwAYwCMAA==\"},\"sizemode\":\"area\",\"sizeref\":0.16333333333333333},\"mode\":\"markers\",\"name\":\"\",\"showlegend\":false,\"subplot\":\"mapbox\",\"type\":\"scattermapbox\"}],\"name\":\"May\"},{\"data\":[{\"customdata\":[[\"Jun\",111,18.9067,72.8147],[\"Jun\",42,19.0596,72.8295],[\"Jun\",72,19.1197,72.8468],[\"Jun\",119,19.0622,72.9006],[\"Jun\",90,19.229,72.8567]],\"hovertemplate\":\"\\u003cb\\u003e%{hovertext}\\u003c\\u002fb\\u003e\\u003cbr\\u003e\\u003cbr\\u003eMonth=%{customdata[0]}\\u003cbr\\u003ePM25=%{marker.color}\\u003cextra\\u003e\\u003c\\u002fextra\\u003e\",\"hovertext\":[\"Colaba\",\"Bandra\",\"Andheri\",\"Chembur\",\"Borivali\"],\"lat\":{\"dtype\":\"f8\",\"bdata\":\"gEi\\u002ffR3oMkBz1xLyQQ8zQMpUwaikHjNAq8\\u002fVVuwPM0C0yHa+nzozQA==\"},\"legendgroup\":\"\",\"lon\":{\"dtype\":\"f8\",\"bdata\":\"RwN4CyQ0UkAMAiuHFjVSQC6QoPgxNlJAxLEubqM5UkDtnjws1DZSQA==\"},\"marker\":{\"color\":{\"dtype\":\"i1\",\"bdata\":\"bypId1o=\"},\"coloraxis\":\"coloraxis\",\"size\":{\"dtype\":\"i1\",\"bdata\":\"bypId1o=\"},\"sizemode\":\"area\",\"sizeref\":0.16333333333333333},\"mode\":\"markers\",\"name\":\"\",\"showlegend\":false,\"subplot\":\"mapbox\",\"type\":\"scattermapbox\"}],\"name\":\"Jun\"},{\"data\":[{\"customdata\":[[\"Jul\",100,18.9067,72.8147],[\"Jul\",61,19.0596,72.8295],[\"Jul\",115,19.1197,72.8468],[\"Jul\",54,19.0622,72.9006],[\"Jul\",46,19.229,72.8567]],\"hovertemplate\":\"\\u003cb\\u003e%{hovertext}\\u003c\\u002fb\\u003e\\u003cbr\\u003e\\u003cbr\\u003eMonth=%{customdata[0]}\\u003cbr\\u003ePM25=%{marker.color}\\u003cextra\\u003e\\u003c\\u002fextra\\u003e\",\"hovertext\":[\"Colaba\",\"Bandra\",\"Andheri\",\"Chembur\",\"Borivali\"],\"lat\":{\"dtype\":\"f8\",\"bdata\":\"gEi\\u002ffR3oMkBz1xLyQQ8zQMpUwaikHjNAq8\\u002fVVuwPM0C0yHa+nzozQA==\"},\"legendgroup\":\"\",\"lon\":{\"dtype\":\"f8\",\"bdata\":\"RwN4CyQ0UkAMAiuHFjVSQC6QoPgxNlJAxLEubqM5UkDtnjws1DZSQA==\"},\"marker\":{\"color\":{\"dtype\":\"i1\",\"bdata\":\"ZD1zNi4=\"},\"coloraxis\":\"coloraxis\",\"size\":{\"dtype\":\"i1\",\"bdata\":\"ZD1zNi4=\"},\"sizemode\":\"area\",\"sizeref\":0.16333333333333333},\"mode\":\"markers\",\"name\":\"\",\"showlegend\":false,\"subplot\":\"mapbox\",\"type\":\"scattermapbox\"}],\"name\":\"Jul\"},{\"data\":[{\"customdata\":[[\"Aug\",60,18.9067,72.8147],[\"Aug\",92,19.0596,72.8295],[\"Aug\",97,19.1197,72.8468],[\"Aug\",101,19.0622,72.9006],[\"Aug\",60,19.229,72.8567]],\"hovertemplate\":\"\\u003cb\\u003e%{hovertext}\\u003c\\u002fb\\u003e\\u003cbr\\u003e\\u003cbr\\u003eMonth=%{customdata[0]}\\u003cbr\\u003ePM25=%{marker.color}\\u003cextra\\u003e\\u003c\\u002fextra\\u003e\",\"hovertext\":[\"Colaba\",\"Bandra\",\"Andheri\",\"Chembur\",\"Borivali\"],\"lat\":{\"dtype\":\"f8\",\"bdata\":\"gEi\\u002ffR3oMkBz1xLyQQ8zQMpUwaikHjNAq8\\u002fVVuwPM0C0yHa+nzozQA==\"},\"legendgroup\":\"\",\"lon\":{\"dtype\":\"f8\",\"bdata\":\"RwN4CyQ0UkAMAiuHFjVSQC6QoPgxNlJAxLEubqM5UkDtnjws1DZSQA==\"},\"marker\":{\"color\":{\"dtype\":\"i1\",\"bdata\":\"PFxhZTw=\"},\"coloraxis\":\"coloraxis\",\"size\":{\"dtype\":\"i1\",\"bdata\":\"PFxhZTw=\"},\"sizemode\":\"area\",\"sizeref\":0.16333333333333333},\"mode\":\"markers\",\"name\":\"\",\"showlegend\":false,\"subplot\":\"mapbox\",\"type\":\"scattermapbox\"}],\"name\":\"Aug\"},{\"data\":[{\"customdata\":[[\"Sep\",142,18.9067,72.8147],[\"Sep\",41,19.0596,72.8295],[\"Sep\",61,19.1197,72.8468],[\"Sep\",101,19.0622,72.9006],[\"Sep\",112,19.229,72.8567]],\"hovertemplate\":\"\\u003cb\\u003e%{hovertext}\\u003c\\u002fb\\u003e\\u003cbr\\u003e\\u003cbr\\u003eMonth=%{customdata[0]}\\u003cbr\\u003ePM25=%{marker.color}\\u003cextra\\u003e\\u003c\\u002fextra\\u003e\",\"hovertext\":[\"Colaba\",\"Bandra\",\"Andheri\",\"Chembur\",\"Borivali\"],\"lat\":{\"dtype\":\"f8\",\"bdata\":\"gEi\\u002ffR3oMkBz1xLyQQ8zQMpUwaikHjNAq8\\u002fVVuwPM0C0yHa+nzozQA==\"},\"legendgroup\":\"\",\"lon\":{\"dtype\":\"f8\",\"bdata\":\"RwN4CyQ0UkAMAiuHFjVSQC6QoPgxNlJAxLEubqM5UkDtnjws1DZSQA==\"},\"marker\":{\"color\":{\"dtype\":\"i2\",\"bdata\":\"jgApAD0AZQBwAA==\"},\"coloraxis\":\"coloraxis\",\"size\":{\"dtype\":\"i2\",\"bdata\":\"jgApAD0AZQBwAA==\"},\"sizemode\":\"area\",\"sizeref\":0.16333333333333333},\"mode\":\"markers\",\"name\":\"\",\"showlegend\":false,\"subplot\":\"mapbox\",\"type\":\"scattermapbox\"}],\"name\":\"Sep\"},{\"data\":[{\"customdata\":[[\"Oct\",122,18.9067,72.8147],[\"Oct\",127,19.0596,72.8295],[\"Oct\",147,19.1197,72.8468],[\"Oct\",86,19.0622,72.9006],[\"Oct\",78,19.229,72.8567]],\"hovertemplate\":\"\\u003cb\\u003e%{hovertext}\\u003c\\u002fb\\u003e\\u003cbr\\u003e\\u003cbr\\u003eMonth=%{customdata[0]}\\u003cbr\\u003ePM25=%{marker.color}\\u003cextra\\u003e\\u003c\\u002fextra\\u003e\",\"hovertext\":[\"Colaba\",\"Bandra\",\"Andheri\",\"Chembur\",\"Borivali\"],\"lat\":{\"dtype\":\"f8\",\"bdata\":\"gEi\\u002ffR3oMkBz1xLyQQ8zQMpUwaikHjNAq8\\u002fVVuwPM0C0yHa+nzozQA==\"},\"legendgroup\":\"\",\"lon\":{\"dtype\":\"f8\",\"bdata\":\"RwN4CyQ0UkAMAiuHFjVSQC6QoPgxNlJAxLEubqM5UkDtnjws1DZSQA==\"},\"marker\":{\"color\":{\"dtype\":\"i2\",\"bdata\":\"egB\\u002fAJMAVgBOAA==\"},\"coloraxis\":\"coloraxis\",\"size\":{\"dtype\":\"i2\",\"bdata\":\"egB\\u002fAJMAVgBOAA==\"},\"sizemode\":\"area\",\"sizeref\":0.16333333333333333},\"mode\":\"markers\",\"name\":\"\",\"showlegend\":false,\"subplot\":\"mapbox\",\"type\":\"scattermapbox\"}],\"name\":\"Oct\"},{\"data\":[{\"customdata\":[[\"Nov\",126,18.9067,72.8147],[\"Nov\",147,19.0596,72.8295],[\"Nov\",128,19.1197,72.8468],[\"Nov\",101,19.0622,72.9006],[\"Nov\",57,19.229,72.8567]],\"hovertemplate\":\"\\u003cb\\u003e%{hovertext}\\u003c\\u002fb\\u003e\\u003cbr\\u003e\\u003cbr\\u003eMonth=%{customdata[0]}\\u003cbr\\u003ePM25=%{marker.color}\\u003cextra\\u003e\\u003c\\u002fextra\\u003e\",\"hovertext\":[\"Colaba\",\"Bandra\",\"Andheri\",\"Chembur\",\"Borivali\"],\"lat\":{\"dtype\":\"f8\",\"bdata\":\"gEi\\u002ffR3oMkBz1xLyQQ8zQMpUwaikHjNAq8\\u002fVVuwPM0C0yHa+nzozQA==\"},\"legendgroup\":\"\",\"lon\":{\"dtype\":\"f8\",\"bdata\":\"RwN4CyQ0UkAMAiuHFjVSQC6QoPgxNlJAxLEubqM5UkDtnjws1DZSQA==\"},\"marker\":{\"color\":{\"dtype\":\"i2\",\"bdata\":\"fgCTAIAAZQA5AA==\"},\"coloraxis\":\"coloraxis\",\"size\":{\"dtype\":\"i2\",\"bdata\":\"fgCTAIAAZQA5AA==\"},\"sizemode\":\"area\",\"sizeref\":0.16333333333333333},\"mode\":\"markers\",\"name\":\"\",\"showlegend\":false,\"subplot\":\"mapbox\",\"type\":\"scattermapbox\"}],\"name\":\"Nov\"},{\"data\":[{\"customdata\":[[\"Dec\",114,18.9067,72.8147],[\"Dec\",69,19.0596,72.8295],[\"Dec\",88,19.1197,72.8468],[\"Dec\",90,19.0622,72.9006],[\"Dec\",43,19.229,72.8567]],\"hovertemplate\":\"\\u003cb\\u003e%{hovertext}\\u003c\\u002fb\\u003e\\u003cbr\\u003e\\u003cbr\\u003eMonth=%{customdata[0]}\\u003cbr\\u003ePM25=%{marker.color}\\u003cextra\\u003e\\u003c\\u002fextra\\u003e\",\"hovertext\":[\"Colaba\",\"Bandra\",\"Andheri\",\"Chembur\",\"Borivali\"],\"lat\":{\"dtype\":\"f8\",\"bdata\":\"gEi\\u002ffR3oMkBz1xLyQQ8zQMpUwaikHjNAq8\\u002fVVuwPM0C0yHa+nzozQA==\"},\"legendgroup\":\"\",\"lon\":{\"dtype\":\"f8\",\"bdata\":\"RwN4CyQ0UkAMAiuHFjVSQC6QoPgxNlJAxLEubqM5UkDtnjws1DZSQA==\"},\"marker\":{\"color\":{\"dtype\":\"i1\",\"bdata\":\"ckVYWis=\"},\"coloraxis\":\"coloraxis\",\"size\":{\"dtype\":\"i1\",\"bdata\":\"ckVYWis=\"},\"sizemode\":\"area\",\"sizeref\":0.16333333333333333},\"mode\":\"markers\",\"name\":\"\",\"showlegend\":false,\"subplot\":\"mapbox\",\"type\":\"scattermapbox\"}],\"name\":\"Dec\"}]);\n",
              "                        }).then(function(){\n",
              "                            \n",
              "var gd = document.getElementById('6fe36211-5ffd-4cd9-aaf8-23fbcbd824bd');\n",
              "var x = new MutationObserver(function (mutations, observer) {{\n",
              "        var display = window.getComputedStyle(gd).display;\n",
              "        if (!display || display === 'none') {{\n",
              "            console.log([gd, 'removed!']);\n",
              "            Plotly.purge(gd);\n",
              "            observer.disconnect();\n",
              "        }}\n",
              "}});\n",
              "\n",
              "// Listen for the removal of the full notebook cells\n",
              "var notebookContainer = gd.closest('#notebook-container');\n",
              "if (notebookContainer) {{\n",
              "    x.observe(notebookContainer, {childList: true});\n",
              "}}\n",
              "\n",
              "// Listen for the clearing of the current output cell\n",
              "var outputEl = gd.closest('.output');\n",
              "if (outputEl) {{\n",
              "    x.observe(outputEl, {childList: true});\n",
              "}}\n",
              "\n",
              "                        })                };            </script>        </div>\n",
              "</body>\n",
              "</html>"
            ]
          },
          "metadata": {}
        }
      ]
    },
    {
      "cell_type": "markdown",
      "source": [
        "#CONCLUSION\n",
        "The visualization of air pollution in Mumbai using synthetic PM2.5 data provides valuable insights into the temporal and spatial distribution of air quality across different regions of the city. By incorporating interactive tools such as tooltips, legends, and time sliders, the Kepler.gl and Plotly visualizations allow for dynamic exploration of pollution patterns over the months of 2024. The results highlight how certain areas experience consistently higher pollution levels, making it easier to identify potential hotspots for targeted interventions. The interactive nature of the visualization enhances user engagement and supports better decision-making by allowing stakeholders to analyze trends, compare regions, and observe fluctuations across time. Exporting the outputs as both HTML and static images ensures that the results can be effectively shared in interactive presentations as well as formal reports. Overall, this project demonstrates the power of open-source geospatial libraries in transforming raw data into meaningful, actionable insights for urban environmental monitoring.\n"
      ],
      "metadata": {
        "id": "PVkuxN7kwAt4"
      }
    }
  ]
}